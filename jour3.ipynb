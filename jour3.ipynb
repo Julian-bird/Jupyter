{
 "cells": [
  {
   "cell_type": "markdown",
   "id": "73d6e449",
   "metadata": {},
   "source": [
    "# type range"
   ]
  },
  {
   "cell_type": "code",
   "execution_count": 1,
   "id": "45b1d948",
   "metadata": {},
   "outputs": [
    {
     "data": {
      "text/plain": [
       "range(0, 10)"
      ]
     },
     "execution_count": 1,
     "metadata": {},
     "output_type": "execute_result"
    }
   ],
   "source": [
    "range(10)"
   ]
  },
  {
   "cell_type": "code",
   "execution_count": 3,
   "id": "3018e124",
   "metadata": {},
   "outputs": [
    {
     "data": {
      "text/plain": [
       "range(5, 20)"
      ]
     },
     "execution_count": 3,
     "metadata": {},
     "output_type": "execute_result"
    }
   ],
   "source": [
    "range(5,20)"
   ]
  },
  {
   "cell_type": "code",
   "execution_count": 5,
   "id": "4b0314fe",
   "metadata": {},
   "outputs": [
    {
     "data": {
      "text/plain": [
       "range(1, 20, 2)"
      ]
     },
     "execution_count": 5,
     "metadata": {},
     "output_type": "execute_result"
    }
   ],
   "source": [
    "range(1,20,2)"
   ]
  },
  {
   "cell_type": "code",
   "execution_count": 7,
   "id": "43ad7a9a",
   "metadata": {},
   "outputs": [
    {
     "name": "stdout",
     "output_type": "stream",
     "text": [
      "[0, 1, 2, 3, 4, 5, 6, 7, 8, 9]\n"
     ]
    }
   ],
   "source": [
    "malist = list(range(10))\n",
    "print(malist)"
   ]
  },
  {
   "cell_type": "markdown",
   "id": "e4911247",
   "metadata": {},
   "source": [
    "# Boucle for"
   ]
  },
  {
   "cell_type": "code",
   "execution_count": 34,
   "id": "bd7d68ab",
   "metadata": {},
   "outputs": [
    {
     "name": "stdout",
     "output_type": "stream",
     "text": [
      "1 3 5 7 9 11 13 15 17 19 "
     ]
    }
   ],
   "source": [
    "for i in range(1,20,2):\n",
    "    print(i, end=\" \")"
   ]
  },
  {
   "cell_type": "code",
   "execution_count": 8,
   "id": "18198336",
   "metadata": {},
   "outputs": [
    {
     "data": {
      "text/plain": [
       "'A'"
      ]
     },
     "execution_count": 8,
     "metadata": {},
     "output_type": "execute_result"
    }
   ],
   "source": [
    "nom = \"Automatisation des tests\"\n",
    "nom[0]"
   ]
  },
  {
   "cell_type": "code",
   "execution_count": 35,
   "id": "fdb7be55",
   "metadata": {},
   "outputs": [
    {
     "name": "stdout",
     "output_type": "stream",
     "text": [
      "A u t o m a t i s a t i o n   d e s   t e s t s "
     ]
    }
   ],
   "source": [
    "for i in nom:\n",
    "    print(i, end=\" \")"
   ]
  },
  {
   "cell_type": "markdown",
   "id": "47585e82",
   "metadata": {},
   "source": [
    "# Exo 1"
   ]
  },
  {
   "cell_type": "markdown",
   "id": "043065cd",
   "metadata": {},
   "source": [
    "### Ecrire un programme qui va afficher les carateres d'un chaine de caraters avec leurs indices respectifs"
   ]
  },
  {
   "cell_type": "code",
   "execution_count": 36,
   "id": "b9d23483",
   "metadata": {},
   "outputs": [
    {
     "name": "stdout",
     "output_type": "stream",
     "text": [
      "0 A 1 u 2 t 3 o 4 m 5 a 6 t 7 i 8 s 9 a 10 t 11 i 12 o 13 n 14   15 d 16 e 17 s 18   19 t 20 e 21 s 22 t 23 s "
     ]
    }
   ],
   "source": [
    "a = 0\n",
    "for i in nom:\n",
    "    print(a,i, end=\" \")\n",
    "    a += 1"
   ]
  },
  {
   "cell_type": "markdown",
   "id": "d3dffff7",
   "metadata": {},
   "source": [
    "# Exo 2"
   ]
  },
  {
   "cell_type": "markdown",
   "id": "41cbf5b0",
   "metadata": {},
   "source": [
    "### Afficher les nombre impaire entre 0 et 30"
   ]
  },
  {
   "cell_type": "code",
   "execution_count": 37,
   "id": "6def061d",
   "metadata": {},
   "outputs": [
    {
     "name": "stdout",
     "output_type": "stream",
     "text": [
      "1 3 5 7 9 11 13 15 17 19 "
     ]
    }
   ],
   "source": [
    "for i in range(0,20,2):\n",
    "    print(i+1, end=\" \")"
   ]
  },
  {
   "cell_type": "markdown",
   "id": "723a8d6b",
   "metadata": {},
   "source": [
    "# Exo 3"
   ]
  },
  {
   "cell_type": "markdown",
   "id": "05c9293e",
   "metadata": {},
   "source": [
    "### Ecrire un programme qui va afficher les nombres de 30 jusqu'a 1 en ordre decendant"
   ]
  },
  {
   "cell_type": "code",
   "execution_count": 38,
   "id": "b991f4fa",
   "metadata": {},
   "outputs": [
    {
     "name": "stdout",
     "output_type": "stream",
     "text": [
      "30 29 28 27 26 25 24 23 22 21 20 19 18 17 16 15 14 13 12 11 10 9 8 7 6 5 4 3 2 1 "
     ]
    }
   ],
   "source": [
    "for i in range(30,0,-1):\n",
    "    print(i, end=\" \")"
   ]
  },
  {
   "cell_type": "code",
   "execution_count": 41,
   "id": "7a5b81eb",
   "metadata": {},
   "outputs": [
    {
     "name": "stdout",
     "output_type": "stream",
     "text": [
      "1 3 5 7 9 "
     ]
    }
   ],
   "source": [
    "for i in range(10):\n",
    "    if (i%2 == 0):\n",
    "        continue\n",
    "    print(i, end=\" \")"
   ]
  },
  {
   "cell_type": "code",
   "execution_count": 39,
   "id": "bd18302b",
   "metadata": {},
   "outputs": [
    {
     "name": "stdout",
     "output_type": "stream",
     "text": [
      "20 60 75 25 "
     ]
    }
   ],
   "source": [
    "panier=[20,60,75,126,241,25]\n",
    "for i in panier:\n",
    "    if i >100:\n",
    "        continue\n",
    "    print(i,end=\" \")"
   ]
  },
  {
   "cell_type": "code",
   "execution_count": 43,
   "id": "f1c7b181",
   "metadata": {},
   "outputs": [
    {
     "name": "stdout",
     "output_type": "stream",
     "text": [
      "\n",
      "0 0 0 1 0 2 0 3 0 4 \n",
      "1 0 1 1 1 2 1 3 1 4 \n",
      "2 0 2 1 2 2 2 3 2 4 \n",
      "3 0 3 1 3 2 3 3 3 4 \n",
      "4 0 4 1 4 2 4 3 4 4 \n",
      "5 0 5 1 5 2 5 3 5 4 \n",
      "6 0 6 1 6 2 6 3 6 4 \n",
      "7 0 7 1 7 2 7 3 7 4 \n",
      "8 0 8 1 8 2 8 3 8 4 \n",
      "9 0 9 1 9 2 9 3 9 4 "
     ]
    }
   ],
   "source": [
    "for i in range(10):\n",
    "    print()\n",
    "    for j in range(5):\n",
    "        print(i,j,end=\" \")"
   ]
  },
  {
   "cell_type": "markdown",
   "id": "74040ca2",
   "metadata": {},
   "source": [
    "# Boucle While"
   ]
  },
  {
   "cell_type": "code",
   "execution_count": 45,
   "id": "ecb7963b",
   "metadata": {},
   "outputs": [
    {
     "name": "stdout",
     "output_type": "stream",
     "text": [
      "1 2 3 4 5 6 7 8 9 10 "
     ]
    }
   ],
   "source": [
    "i=1\n",
    "while (i<=10):\n",
    "    print(i,end=\" \")\n",
    "    i+=1"
   ]
  },
  {
   "cell_type": "code",
   "execution_count": null,
   "id": "a50bfb2a",
   "metadata": {},
   "outputs": [],
   "source": []
  }
 ],
 "metadata": {
  "kernelspec": {
   "display_name": "Python 3 (ipykernel)",
   "language": "python",
   "name": "python3"
  },
  "language_info": {
   "codemirror_mode": {
    "name": "ipython",
    "version": 3
   },
   "file_extension": ".py",
   "mimetype": "text/x-python",
   "name": "python",
   "nbconvert_exporter": "python",
   "pygments_lexer": "ipython3",
   "version": "3.10.9"
  }
 },
 "nbformat": 4,
 "nbformat_minor": 5
}
